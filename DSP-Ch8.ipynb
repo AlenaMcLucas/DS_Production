{
 "cells": [
  {
   "cell_type": "markdown",
   "metadata": {},
   "source": [
    "# Kafka Producer"
   ]
  },
  {
   "cell_type": "code",
   "execution_count": null,
   "metadata": {},
   "outputs": [],
   "source": [
    "from kafka import KafkaProducer\n",
    "from json import dumps\n",
    "import time\n",
    " \n",
    "producer = KafkaProducer(bootstrap_servers=['localhost:9092'],\n",
    "          value_serializer=lambda x: dumps(x).encode('utf-8'))\n",
    " \n",
    "data = {'hello' : 'world', 'time': time.time()}\n",
    "producer.send('dsp', data)\n"
   ]
  },
  {
   "cell_type": "markdown",
   "metadata": {},
   "source": [
    "# Kafka Consumer"
   ]
  },
  {
   "cell_type": "code",
   "execution_count": null,
   "metadata": {},
   "outputs": [],
   "source": [
    "from kafka import KafkaConsumer\n",
    "from json import loads\n",
    " \n",
    "consumer = KafkaConsumer('dsp',\n",
    "     bootstrap_servers=['localhost:9092'],\n",
    "     value_deserializer=lambda x: loads(x.decode('utf-8')))\n",
    " \n",
    "for x in consumer:\n",
    "    print(x.value)\n"
   ]
  },
  {
   "cell_type": "markdown",
   "metadata": {},
   "source": [
    "# Model Producer"
   ]
  },
  {
   "cell_type": "code",
   "execution_count": 1,
   "metadata": {},
   "outputs": [
    {
     "data": {
      "text/plain": [
       "RecordMetadata(topic='dsp', partition=0, topic_partition=TopicPartition(topic='dsp', partition=0), offset=109, timestamp=1576709681368, checksum=None, serialized_key_size=-1, serialized_value_size=142, serialized_header_size=-1)"
      ]
     },
     "execution_count": 1,
     "metadata": {},
     "output_type": "execute_result"
    }
   ],
   "source": [
    "\n",
    "from kafka import KafkaProducer\n",
    "from json import dumps\n",
    "import time\n",
    "import uuid\n",
    "\n",
    "producer = KafkaProducer(bootstrap_servers=['54.166.148.190:9092'],\n",
    "          value_serializer=lambda x: dumps(x).encode('utf-8'))\n",
    "\n",
    "data = { 'G1': 1, 'G2': 0, 'G3': 0, 'G4': 0, 'G5': 0, \n",
    "         'G6': 0, 'G7': 0, 'G8': 0, 'G9': 0, 'G10': 0, \n",
    "        'User_ID': str(uuid.uuid1())}\n",
    "result = producer.send('dsp', data)\n",
    "result.get()\n"
   ]
  },
  {
   "cell_type": "markdown",
   "metadata": {},
   "source": [
    "# Streaming Pipeline "
   ]
  },
  {
   "cell_type": "code",
   "execution_count": null,
   "metadata": {},
   "outputs": [],
   "source": [
    "\n",
    "from pyspark.sql.types import StringType\n",
    "import json \n",
    "import pandas as pd\n",
    "from sklearn.linear_model import LogisticRegression\n",
    "\n",
    "# build a logsitic regression model \n",
    "gamesDF = pd.read_csv(\"https://github.com/bgweber/Twitch/raw/master/Recommendations/games-expand.csv\")\n",
    "model = LogisticRegression() \n",
    "model.fit(gamesDF.iloc[:,0:10], gamesDF['label'])\n",
    "\n",
    "# read from Kafka \n",
    "df = spark .readStream.format(\"kafka\") \\\n",
    "  .option(\"kafka.bootstrap.servers\", \"54.166.148.190:9092\") \\\n",
    "  .option(\"subscribe\", \"dsp\").load()\n",
    "\n",
    "# define the UDF for scoring users \n",
    "def score(row):\n",
    "    d = json.loads(row)\n",
    "    p = pd.DataFrame.from_dict(d, orient = \"index\").transpose()        \n",
    "    pred = model.predict_proba(p.iloc[:,0:10])[0][0]\n",
    "    result = {'User_ID': d['User_ID'], 'pred': pred }\n",
    "    return str(json.dumps(result))\n",
    "    \n",
    "# select the value field and apply the UDF     \n",
    "df = df.selectExpr(\"CAST(value AS STRING)\")\n",
    "score_udf = udf(score, StringType())    \n",
    "df = df.select( score_udf(\"value\").alias(\"value\"))\n",
    "\n",
    "# Write results to Kafka \n",
    "query = df.writeStream.format(\"kafka\") \\\n",
    "  .option(\"kafka.bootstrap.servers\", \"54.166.148.190:9092\") \\\n",
    "  .option(\"topic\", \"preds\") \\\n",
    "  .option(\"checkpointLocation\", \"/temp\").start()\n"
   ]
  },
  {
   "cell_type": "markdown",
   "metadata": {},
   "source": [
    "# Model Consumer"
   ]
  },
  {
   "cell_type": "code",
   "execution_count": null,
   "metadata": {},
   "outputs": [],
   "source": [
    "from kafka import KafkaConsumer\n",
    "from json import loads\n",
    "\n",
    "consumer = KafkaConsumer('preds',\n",
    "     bootstrap_servers=['54.166.148.190:9092'],\n",
    "     value_deserializer=lambda x: loads(x))\n",
    "\n",
    "for x in consumer:\n",
    "    print(x.value)"
   ]
  }
 ],
 "metadata": {
  "kernelspec": {
   "display_name": "Python 3",
   "language": "python",
   "name": "python3"
  },
  "language_info": {
   "codemirror_mode": {
    "name": "ipython",
    "version": 3
   },
   "file_extension": ".py",
   "mimetype": "text/x-python",
   "name": "python",
   "nbconvert_exporter": "python",
   "pygments_lexer": "ipython3",
   "version": "3.7.4"
  }
 },
 "nbformat": 4,
 "nbformat_minor": 2
}
